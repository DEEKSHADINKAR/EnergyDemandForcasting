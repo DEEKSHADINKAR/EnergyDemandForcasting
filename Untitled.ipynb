{
 "cells": [
  {
   "cell_type": "code",
   "execution_count": 1,
   "metadata": {},
   "outputs": [
    {
     "name": "stderr",
     "output_type": "stream",
     "text": [
      "Using TensorFlow backend.\n"
     ]
    }
   ],
   "source": [
    "import sys \n",
    "import numpy as np\n",
    "import pandas as pd\n",
    "import matplotlib.pyplot as plt\n",
    "import seaborn as sns\n",
    "import tensorflow as tf\n",
    "from sklearn.preprocessing import StandardScaler # for normalization\n",
    "from sklearn.preprocessing import MinMaxScaler\n",
    "import keras\n",
    "from keras.layers import Dense\n",
    "from keras.models import Sequential\n",
    "from keras.utils import to_categorical\n",
    "from keras.optimizers import SGD \n",
    "from keras.callbacks import EarlyStopping\n",
    "from keras.utils import np_utils\n",
    "import itertools\n",
    "from keras.layers import LSTM\n",
    "from keras.layers.convolutional import Conv1D\n",
    "from keras.layers.convolutional import MaxPooling1D\n",
    "from keras.layers import Dropout\n",
    "from sklearn.metrics import mean_squared_error,r2_score"
   ]
  },
  {
   "cell_type": "code",
   "execution_count": 2,
   "metadata": {},
   "outputs": [
    {
     "name": "stdout",
     "output_type": "stream",
     "text": [
      "                    Day Name  Holiday  Season        Delhi  Temperature (K)  \\\n",
      "Date & Time                                                                   \n",
      "2018-01-01 00:00:00   Monday        0  Winter  1856.710000           280.46   \n",
      "2018-01-01 00:05:00   Monday        0  Winter  1825.850000           280.40   \n",
      "2018-01-01 00:10:00   Monday        0  Winter  1807.500000           280.35   \n",
      "2018-01-01 00:15:00   Monday        0  Winter  1793.710000           280.29   \n",
      "2018-01-01 00:20:00   Monday        0  Winter  1767.030000           280.23   \n",
      "...                      ...      ...     ...          ...              ...   \n",
      "2020-03-31 23:35:00  Tuesday        0  Summer  1652.576915           291.08   \n",
      "2020-03-31 23:40:00  Tuesday        0  Summer  1640.394751           291.09   \n",
      "2020-03-31 23:45:00  Tuesday        0  Summer  1631.808249           291.10   \n",
      "2020-03-31 23:50:00  Tuesday        0  Summer  1623.436390           291.11   \n",
      "2020-03-31 23:55:00  Tuesday        0  Summer  1611.768073           291.11   \n",
      "\n",
      "                     Relative Humidity (%)  Pressure (hPa)  Wind speed (m/s)  \\\n",
      "Date & Time                                                                    \n",
      "2018-01-01 00:00:00                  39.96          987.95              1.70   \n",
      "2018-01-01 00:05:00                  40.10          987.98              1.70   \n",
      "2018-01-01 00:10:00                  40.24          988.01              1.69   \n",
      "2018-01-01 00:15:00                  40.39          988.03              1.69   \n",
      "2018-01-01 00:20:00                  40.53          988.06              1.70   \n",
      "...                                    ...             ...               ...   \n",
      "2020-03-31 23:35:00                  76.49          984.51              1.14   \n",
      "2020-03-31 23:40:00                  76.37          984.52              1.11   \n",
      "2020-03-31 23:45:00                  76.26          984.53              1.09   \n",
      "2020-03-31 23:50:00                  76.14          984.55              1.07   \n",
      "2020-03-31 23:55:00                  76.03          984.56              1.05   \n",
      "\n",
      "                     Wind direction (deg)  Rainfall  Short-wave irradiation  \n",
      "Date & Time                                                                  \n",
      "2018-01-01 00:00:00                306.15       0.0                     0.0  \n",
      "2018-01-01 00:05:00                305.00       0.0                     0.0  \n",
      "2018-01-01 00:10:00                303.86       0.0                     0.0  \n",
      "2018-01-01 00:15:00                302.71       0.0                     0.0  \n",
      "2018-01-01 00:20:00                301.56       0.0                     0.0  \n",
      "...                                   ...       ...                     ...  \n",
      "2020-03-31 23:35:00                 54.81       0.0                     0.0  \n",
      "2020-03-31 23:40:00                 54.37       0.0                     0.0  \n",
      "2020-03-31 23:45:00                 53.91       0.0                     0.0  \n",
      "2020-03-31 23:50:00                 53.43       0.0                     0.0  \n",
      "2020-03-31 23:55:00                 52.93       0.0                     0.0  \n",
      "\n",
      "[236448 rows x 11 columns]\n"
     ]
    }
   ],
   "source": [
    "df = pd.read_excel (r'C:\\Users\\Deepak\\PycharmProjects\\Test\\Jan2018_Mar2020_DelhiData.xlsx',index_col=0, parse_dates=True)\n",
    "print (df)"
   ]
  },
  {
   "cell_type": "code",
   "execution_count": 3,
   "metadata": {},
   "outputs": [
    {
     "data": {
      "text/plain": [
       "7361.117301432291"
      ]
     },
     "execution_count": 3,
     "metadata": {},
     "output_type": "execute_result"
    }
   ],
   "source": [
    "df['Delhi'].max()"
   ]
  },
  {
   "cell_type": "code",
   "execution_count": 4,
   "metadata": {
    "scrolled": true
   },
   "outputs": [
    {
     "name": "stdout",
     "output_type": "stream",
     "text": [
      "<class 'pandas.core.frame.DataFrame'>\n",
      "DatetimeIndex: 236448 entries, 2018-01-01 00:00:00 to 2020-03-31 23:55:00\n",
      "Data columns (total 11 columns):\n",
      " #   Column                  Non-Null Count   Dtype  \n",
      "---  ------                  --------------   -----  \n",
      " 0   Day Name                236448 non-null  object \n",
      " 1   Holiday                 236448 non-null  int64  \n",
      " 2   Season                  236448 non-null  object \n",
      " 3   Delhi                   236448 non-null  float64\n",
      " 4   Temperature (K)         236448 non-null  float64\n",
      " 5   Relative Humidity (%)   232273 non-null  float64\n",
      " 6   Pressure (hPa)          232273 non-null  float64\n",
      " 7   Wind speed (m/s)        232273 non-null  float64\n",
      " 8   Wind direction (deg)    232273 non-null  float64\n",
      " 9   Rainfall                232273 non-null  float64\n",
      " 10  Short-wave irradiation  232273 non-null  float64\n",
      "dtypes: float64(8), int64(1), object(2)\n",
      "memory usage: 21.6+ MB\n"
     ]
    }
   ],
   "source": [
    "df.info()"
   ]
  },
  {
   "cell_type": "code",
   "execution_count": 5,
   "metadata": {},
   "outputs": [],
   "source": [
    "d = {'Winter':1, 'Rainy':2,'Summer':3}\n",
    "df['Season Num'] = df.Season.map(d)"
   ]
  },
  {
   "cell_type": "code",
   "execution_count": 6,
   "metadata": {},
   "outputs": [],
   "source": [
    "day_num={'Monday':0,'Tuesday':1,'Wednesday':2,'Thursday':3,'Friday':4,'Saturday':5,'Sunday':6}\n",
    "df['Day Num'] = df['Day Name'].map(day_num)\n"
   ]
  },
  {
   "cell_type": "code",
   "execution_count": 7,
   "metadata": {},
   "outputs": [
    {
     "name": "stdout",
     "output_type": "stream",
     "text": [
      "<class 'pandas.core.frame.DataFrame'>\n",
      "DatetimeIndex: 236448 entries, 2018-01-01 00:00:00 to 2020-03-31 23:55:00\n",
      "Data columns (total 13 columns):\n",
      " #   Column                  Non-Null Count   Dtype  \n",
      "---  ------                  --------------   -----  \n",
      " 0   Day Name                236448 non-null  object \n",
      " 1   Holiday                 236448 non-null  int64  \n",
      " 2   Season                  236448 non-null  object \n",
      " 3   Delhi                   236448 non-null  float64\n",
      " 4   Temperature (K)         236448 non-null  float64\n",
      " 5   Relative Humidity (%)   232273 non-null  float64\n",
      " 6   Pressure (hPa)          232273 non-null  float64\n",
      " 7   Wind speed (m/s)        232273 non-null  float64\n",
      " 8   Wind direction (deg)    232273 non-null  float64\n",
      " 9   Rainfall                232273 non-null  float64\n",
      " 10  Short-wave irradiation  232273 non-null  float64\n",
      " 11  Season Num              236448 non-null  int64  \n",
      " 12  Day Num                 236448 non-null  int64  \n",
      "dtypes: float64(8), int64(3), object(2)\n",
      "memory usage: 25.3+ MB\n"
     ]
    }
   ],
   "source": [
    "df.info()"
   ]
  },
  {
   "cell_type": "code",
   "execution_count": 8,
   "metadata": {},
   "outputs": [
    {
     "data": {
      "text/plain": [
       "Date & Time\n",
       "2018-01-01 00:00:00    Winter\n",
       "2018-01-01 00:05:00    Winter\n",
       "2018-01-01 00:10:00    Winter\n",
       "2018-01-01 00:15:00    Winter\n",
       "2018-01-01 00:20:00    Winter\n",
       "                        ...  \n",
       "2020-03-31 23:35:00    Summer\n",
       "2020-03-31 23:40:00    Summer\n",
       "2020-03-31 23:45:00    Summer\n",
       "2020-03-31 23:50:00    Summer\n",
       "2020-03-31 23:55:00    Summer\n",
       "Name: Season, Length: 236448, dtype: object"
      ]
     },
     "execution_count": 8,
     "metadata": {},
     "output_type": "execute_result"
    }
   ],
   "source": [
    "df.pop('Day Name')\n",
    "df.pop('Season')"
   ]
  },
  {
   "cell_type": "code",
   "execution_count": 9,
   "metadata": {},
   "outputs": [
    {
     "data": {
      "text/plain": [
       "Date & Time\n",
       "2018-01-01 00:00:00    0.0\n",
       "2018-01-01 00:05:00    0.0\n",
       "2018-01-01 00:10:00    0.0\n",
       "2018-01-01 00:15:00    0.0\n",
       "2018-01-01 00:20:00    0.0\n",
       "                      ... \n",
       "2020-03-31 23:35:00    0.0\n",
       "2020-03-31 23:40:00    0.0\n",
       "2020-03-31 23:45:00    0.0\n",
       "2020-03-31 23:50:00    0.0\n",
       "2020-03-31 23:55:00    0.0\n",
       "Name: Short-wave irradiation, Length: 236448, dtype: float64"
      ]
     },
     "execution_count": 9,
     "metadata": {},
     "output_type": "execute_result"
    }
   ],
   "source": [
    "df.pop('Pressure (hPa)')\n",
    "df.pop('Short-wave irradiation')"
   ]
  },
  {
   "cell_type": "code",
   "execution_count": 10,
   "metadata": {},
   "outputs": [
    {
     "name": "stdout",
     "output_type": "stream",
     "text": [
      "<class 'pandas.core.frame.DataFrame'>\n",
      "DatetimeIndex: 236448 entries, 2018-01-01 00:00:00 to 2020-03-31 23:55:00\n",
      "Data columns (total 9 columns):\n",
      " #   Column                 Non-Null Count   Dtype  \n",
      "---  ------                 --------------   -----  \n",
      " 0   Holiday                236448 non-null  int64  \n",
      " 1   Delhi                  236448 non-null  float64\n",
      " 2   Temperature (K)        236448 non-null  float64\n",
      " 3   Relative Humidity (%)  232273 non-null  float64\n",
      " 4   Wind speed (m/s)       232273 non-null  float64\n",
      " 5   Wind direction (deg)   232273 non-null  float64\n",
      " 6   Rainfall               232273 non-null  float64\n",
      " 7   Season Num             236448 non-null  int64  \n",
      " 8   Day Num                236448 non-null  int64  \n",
      "dtypes: float64(6), int64(3)\n",
      "memory usage: 18.0 MB\n"
     ]
    }
   ],
   "source": [
    "df.info()"
   ]
  },
  {
   "cell_type": "code",
   "execution_count": 11,
   "metadata": {},
   "outputs": [],
   "source": [
    "wv = df.pop('Wind speed (m/s)')\n",
    "\n",
    "\n",
    "# Convert to radians.\n",
    "wd_rad = df.pop('Wind direction (deg)')*np.pi / 180\n",
    "\n",
    "# Calculate the wind x and y components.\n",
    "df['Wx'] = wv*np.cos(wd_rad)\n",
    "df['Wy'] = wv*np.sin(wd_rad)"
   ]
  },
  {
   "cell_type": "code",
   "execution_count": 12,
   "metadata": {},
   "outputs": [
    {
     "name": "stdout",
     "output_type": "stream",
     "text": [
      "<class 'pandas.core.frame.DataFrame'>\n",
      "DatetimeIndex: 236448 entries, 2018-01-01 00:00:00 to 2020-03-31 23:55:00\n",
      "Data columns (total 9 columns):\n",
      " #   Column                 Non-Null Count   Dtype  \n",
      "---  ------                 --------------   -----  \n",
      " 0   Holiday                236448 non-null  int64  \n",
      " 1   Delhi                  236448 non-null  float64\n",
      " 2   Temperature (K)        236448 non-null  float64\n",
      " 3   Relative Humidity (%)  232273 non-null  float64\n",
      " 4   Rainfall               232273 non-null  float64\n",
      " 5   Season Num             236448 non-null  int64  \n",
      " 6   Day Num                236448 non-null  int64  \n",
      " 7   Wx                     232273 non-null  float64\n",
      " 8   Wy                     232273 non-null  float64\n",
      "dtypes: float64(6), int64(3)\n",
      "memory usage: 18.0 MB\n"
     ]
    }
   ],
   "source": [
    "df.info()"
   ]
  },
  {
   "cell_type": "code",
   "execution_count": 13,
   "metadata": {},
   "outputs": [
    {
     "data": {
      "text/plain": [
       "Date & Time\n",
       "2018-01-01 00:00:00   -1.372708\n",
       "2018-01-01 00:05:00   -1.392558\n",
       "2018-01-01 00:10:00   -1.403378\n",
       "2018-01-01 00:15:00   -1.421994\n",
       "2018-01-01 00:20:00   -1.448557\n",
       "                         ...   \n",
       "2020-03-31 23:35:00    0.931660\n",
       "2020-03-31 23:40:00    0.902203\n",
       "2020-03-31 23:45:00    0.880821\n",
       "2020-03-31 23:50:00    0.859349\n",
       "2020-03-31 23:55:00    0.837795\n",
       "Name: Wy, Length: 236448, dtype: float64"
      ]
     },
     "execution_count": 13,
     "metadata": {},
     "output_type": "execute_result"
    }
   ],
   "source": [
    "df.pop('Wx')\n",
    "df.pop('Wy')"
   ]
  },
  {
   "cell_type": "code",
   "execution_count": 14,
   "metadata": {},
   "outputs": [
    {
     "data": {
      "text/plain": [
       "Date & Time\n",
       "2018-01-01 00:00:00    0\n",
       "2018-01-01 00:05:00    0\n",
       "2018-01-01 00:10:00    0\n",
       "2018-01-01 00:15:00    0\n",
       "2018-01-01 00:20:00    0\n",
       "                      ..\n",
       "2020-03-31 23:35:00    1\n",
       "2020-03-31 23:40:00    1\n",
       "2020-03-31 23:45:00    1\n",
       "2020-03-31 23:50:00    1\n",
       "2020-03-31 23:55:00    1\n",
       "Name: Day Num, Length: 236448, dtype: int64"
      ]
     },
     "execution_count": 14,
     "metadata": {},
     "output_type": "execute_result"
    }
   ],
   "source": [
    "df.pop('Temperature (K)')\n",
    "df.pop('Relative Humidity (%)')\n",
    "df.pop('Rainfall')\n",
    "df.pop('Holiday')\n",
    "df.pop('Season Num')\n",
    "df.pop('Day Num')"
   ]
  },
  {
   "cell_type": "code",
   "execution_count": 15,
   "metadata": {},
   "outputs": [
    {
     "data": {
      "text/html": [
       "<div>\n",
       "<style scoped>\n",
       "    .dataframe tbody tr th:only-of-type {\n",
       "        vertical-align: middle;\n",
       "    }\n",
       "\n",
       "    .dataframe tbody tr th {\n",
       "        vertical-align: top;\n",
       "    }\n",
       "\n",
       "    .dataframe thead th {\n",
       "        text-align: right;\n",
       "    }\n",
       "</style>\n",
       "<table border=\"1\" class=\"dataframe\">\n",
       "  <thead>\n",
       "    <tr style=\"text-align: right;\">\n",
       "      <th></th>\n",
       "      <th>Delhi</th>\n",
       "    </tr>\n",
       "    <tr>\n",
       "      <th>Date &amp; Time</th>\n",
       "      <th></th>\n",
       "    </tr>\n",
       "  </thead>\n",
       "  <tbody>\n",
       "    <tr>\n",
       "      <th>2018-01-01 00:00:00</th>\n",
       "      <td>1856.710000</td>\n",
       "    </tr>\n",
       "    <tr>\n",
       "      <th>2018-01-01 00:05:00</th>\n",
       "      <td>1825.850000</td>\n",
       "    </tr>\n",
       "    <tr>\n",
       "      <th>2018-01-01 00:10:00</th>\n",
       "      <td>1807.500000</td>\n",
       "    </tr>\n",
       "    <tr>\n",
       "      <th>2018-01-01 00:15:00</th>\n",
       "      <td>1793.710000</td>\n",
       "    </tr>\n",
       "    <tr>\n",
       "      <th>2018-01-01 00:20:00</th>\n",
       "      <td>1767.030000</td>\n",
       "    </tr>\n",
       "    <tr>\n",
       "      <th>...</th>\n",
       "      <td>...</td>\n",
       "    </tr>\n",
       "    <tr>\n",
       "      <th>2020-03-31 23:35:00</th>\n",
       "      <td>1652.576915</td>\n",
       "    </tr>\n",
       "    <tr>\n",
       "      <th>2020-03-31 23:40:00</th>\n",
       "      <td>1640.394751</td>\n",
       "    </tr>\n",
       "    <tr>\n",
       "      <th>2020-03-31 23:45:00</th>\n",
       "      <td>1631.808249</td>\n",
       "    </tr>\n",
       "    <tr>\n",
       "      <th>2020-03-31 23:50:00</th>\n",
       "      <td>1623.436390</td>\n",
       "    </tr>\n",
       "    <tr>\n",
       "      <th>2020-03-31 23:55:00</th>\n",
       "      <td>1611.768073</td>\n",
       "    </tr>\n",
       "  </tbody>\n",
       "</table>\n",
       "<p>236448 rows × 1 columns</p>\n",
       "</div>"
      ],
      "text/plain": [
       "                           Delhi\n",
       "Date & Time                     \n",
       "2018-01-01 00:00:00  1856.710000\n",
       "2018-01-01 00:05:00  1825.850000\n",
       "2018-01-01 00:10:00  1807.500000\n",
       "2018-01-01 00:15:00  1793.710000\n",
       "2018-01-01 00:20:00  1767.030000\n",
       "...                          ...\n",
       "2020-03-31 23:35:00  1652.576915\n",
       "2020-03-31 23:40:00  1640.394751\n",
       "2020-03-31 23:45:00  1631.808249\n",
       "2020-03-31 23:50:00  1623.436390\n",
       "2020-03-31 23:55:00  1611.768073\n",
       "\n",
       "[236448 rows x 1 columns]"
      ]
     },
     "execution_count": 15,
     "metadata": {},
     "output_type": "execute_result"
    }
   ],
   "source": [
    "df"
   ]
  },
  {
   "cell_type": "code",
   "execution_count": 16,
   "metadata": {},
   "outputs": [
    {
     "data": {
      "image/png": "[encoded data removed]",
      "text/plain": [
       "<Figure size 432x288 with 1 Axes>"
      ]
     },
     "metadata": {
      "needs_background": "light"
     },
     "output_type": "display_data"
    },
    {
     "data": {
      "image/png": "[encoded data removed]",
      "text/plain": [
       "<Figure size 1440x720 with 1 Axes>"
      ]
     },
     "metadata": {
      "needs_background": "light"
     },
     "output_type": "display_data"
    }
   ],
   "source": [
    "df.Delhi.resample('D').sum().plot(title='Delhi consumption resampled over day for sum') \n",
    "plt.tight_layout()\n",
    "plt.rcParams[\"figure.figsize\"] = (20,10)\n",
    "plt.show()   \n",
    "\n",
    "df.Delhi.resample('D').mean().plot(title='Delhi consumption resampled over day for mean', color='red') \n",
    "plt.tight_layout()\n",
    "plt.rcParams[\"figure.figsize\"] = (20,10)\n",
    "plt.show()\n"
   ]
  },
  {
   "cell_type": "code",
   "execution_count": null,
   "metadata": {},
   "outputs": [],
   "source": [
    "r = df['Temperature (K)'].resample('D').agg(['mean', 'std'])\n",
    "r.plot(subplots = True, title='Temperature (K) resampled over day')\n",
    "plt.rcParams[\"figure.figsize\"] = (20,10)\n",
    "plt.show()"
   ]
  },
  {
   "cell_type": "code",
   "execution_count": 17,
   "metadata": {},
   "outputs": [
    {
     "data": {
      "image/png": "[encoded data removed]",
      "text/plain": [
       "<Figure size 1440x720 with 1 Axes>"
      ]
     },
     "metadata": {
      "needs_background": "light"
     },
     "output_type": "display_data"
    }
   ],
   "source": [
    "df['Delhi'].resample('M').mean().plot(kind='bar')\n",
    "plt.xticks(rotation=60)\n",
    "plt.ylabel('Delhi consumption')\n",
    "plt.title('Delhi consumption per month (averaged over month)')\n",
    "plt.rcParams[\"figure.figsize\"] = (20,10)\n",
    "plt.show()"
   ]
  },
  {
   "cell_type": "code",
   "execution_count": 18,
   "metadata": {},
   "outputs": [],
   "source": [
    "def series_to_supervised(data, n_in=1, n_out=1, dropnan=True):\n",
    "\tn_vars = 1 if type(data) is list else data.shape[1]\n",
    "\tdff = pd.DataFrame(data)\n",
    "\tcols, names = list(), list()\n",
    "\t# input sequence (t-n, ... t-1)\n",
    "\tfor i in range(n_in, 0, -1):\n",
    "\t\tcols.append(dff.shift(i))\n",
    "\t\tnames += [('var%d(t-%d)' % (j+1, i)) for j in range(n_vars)]\n",
    "\t# forecast sequence (t, t+1, ... t+n)\n",
    "\tfor i in range(0, n_out):\n",
    "\t\tcols.append(dff.shift(-i))\n",
    "\t\tif i == 0:\n",
    "\t\t\tnames += [('var%d(t)' % (j+1)) for j in range(n_vars)]\n",
    "\t\telse:\n",
    "\t\t\tnames += [('var%d(t+%d)' % (j+1, i)) for j in range(n_vars)]\n",
    "\t# put it all together\n",
    "\tagg = pd.concat(cols, axis=1)\n",
    "\tagg.columns = names\n",
    "\t# drop rows with NaN values\n",
    "\tif dropnan:\n",
    "\t\tagg.dropna(inplace=True)\n",
    "\treturn agg"
   ]
  },
  {
   "cell_type": "code",
   "execution_count": null,
   "metadata": {},
   "outputs": [],
   "source": [
    "df_resample = df.resample('h').mean() \n",
    "df_resample.shape"
   ]
  },
  {
   "cell_type": "code",
   "execution_count": null,
   "metadata": {},
   "outputs": [],
   "source": [
    "df_resample"
   ]
  },
  {
   "cell_type": "code",
   "execution_count": 19,
   "metadata": {},
   "outputs": [],
   "source": [
    "values = df.values"
   ]
  },
  {
   "cell_type": "code",
   "execution_count": null,
   "metadata": {},
   "outputs": [],
   "source": [
    "cols = list(df_resample.columns)\n",
    "a, b = cols.index('Holiday'), cols.index('Delhi')\n",
    "cols[b], cols[a] = cols[a], cols[b]\n",
    "df_resample = df_resample[cols]\n",
    "df_resample"
   ]
  },
  {
   "cell_type": "code",
   "execution_count": null,
   "metadata": {},
   "outputs": [],
   "source": [
    "values = df_resample.values \n"
   ]
  },
  {
   "cell_type": "code",
   "execution_count": 20,
   "metadata": {},
   "outputs": [
    {
     "data": {
      "text/plain": [
       "(236448, 1)"
      ]
     },
     "execution_count": 20,
     "metadata": {},
     "output_type": "execute_result"
    }
   ],
   "source": [
    "values.shape"
   ]
  },
  {
   "cell_type": "code",
   "execution_count": 21,
   "metadata": {},
   "outputs": [],
   "source": [
    "values = values.astype('float32')"
   ]
  },
  {
   "cell_type": "code",
   "execution_count": 22,
   "metadata": {},
   "outputs": [],
   "source": [
    "scaler = MinMaxScaler(feature_range=(0, 1))\n",
    "scaled = scaler.fit_transform(values)"
   ]
  },
  {
   "cell_type": "code",
   "execution_count": 23,
   "metadata": {},
   "outputs": [],
   "source": [
    "reframed = series_to_supervised(scaled, 1, 1)"
   ]
  },
  {
   "cell_type": "code",
   "execution_count": 24,
   "metadata": {},
   "outputs": [
    {
     "data": {
      "text/plain": [
       "(236447, 2)"
      ]
     },
     "execution_count": 24,
     "metadata": {},
     "output_type": "execute_result"
    }
   ],
   "source": [
    "reframed.shape"
   ]
  },
  {
   "cell_type": "code",
   "execution_count": null,
   "metadata": {},
   "outputs": [],
   "source": [
    "reframed.drop(reframed.columns[[8,9,10,11,12,13]], axis=1, inplace=True)\n",
    "print(reframed.head())"
   ]
  },
  {
   "cell_type": "code",
   "execution_count": 25,
   "metadata": {},
   "outputs": [
    {
     "name": "stdout",
     "output_type": "stream",
     "text": [
      "(148320, 1, 1) (148320,) (88127, 1, 1) (88127,)\n",
      "ERROR! Session/line number was not unique in database. History logging moved to new session 304\n"
     ]
    }
   ],
   "source": [
    "values = reframed.values\n",
    "\n",
    "n_train_time = 365*288+150*288\n",
    "train = values[:n_train_time, :]\n",
    "test = values[n_train_time:, :]\n",
    "##test = values[n_train_time:n_test_time, :]\n",
    "# split into input and outputs\n",
    "train_X, train_y = train[:, :-1], train[:, -1]\n",
    "test_X, test_y = test[:, :-1], test[:, -1]\n",
    "# reshape input to be 3D [samples, timesteps, features]\n",
    "train_X = train_X.reshape((train_X.shape[0], 1, train_X.shape[1]))\n",
    "test_X = test_X.reshape((test_X.shape[0], 1, test_X.shape[1]))\n",
    "print(train_X.shape, train_y.shape, test_X.shape, test_y.shape) \n",
    "# We reshaped the input into the 3D format as expected by LSTMs, namely [samples, timesteps, features]."
   ]
  },
  {
   "cell_type": "code",
   "execution_count": null,
   "metadata": {},
   "outputs": [],
   "source": [
    "train[:, -1]"
   ]
  },
  {
   "cell_type": "code",
   "execution_count": null,
   "metadata": {},
   "outputs": [
    {
     "name": "stdout",
     "output_type": "stream",
     "text": [
      "Train on 148320 samples, validate on 88127 samples\n",
      "Epoch 1/50\n",
      " - 13s - loss: 0.0109 - val_loss: 0.0072\n",
      "Epoch 2/50\n",
      " - 12s - loss: 0.0024 - val_loss: 5.8537e-04\n",
      "Epoch 3/50\n",
      " - 12s - loss: 0.0012 - val_loss: 0.0011\n",
      "Epoch 4/50\n",
      " - 11s - loss: 0.0010 - val_loss: 0.0015\n",
      "Epoch 5/50\n",
      " - 13s - loss: 9.5245e-04 - val_loss: 0.0014\n",
      "Epoch 6/50\n",
      " - 12s - loss: 9.3347e-04 - val_loss: 9.1130e-04\n",
      "Epoch 7/50\n",
      " - 10s - loss: 9.1487e-04 - val_loss: 0.0011\n",
      "Epoch 8/50\n",
      " - 12s - loss: 9.1287e-04 - val_loss: 9.9379e-04\n",
      "Epoch 9/50\n",
      " - 15s - loss: 9.0461e-04 - val_loss: 9.9940e-04\n",
      "Epoch 10/50\n",
      " - 13s - loss: 8.9929e-04 - val_loss: 9.4069e-04\n",
      "Epoch 11/50\n",
      " - 12s - loss: 8.9786e-04 - val_loss: 9.7634e-04\n",
      "Epoch 12/50\n",
      " - 12s - loss: 9.1041e-04 - val_loss: 0.0010\n",
      "Epoch 13/50\n",
      " - 11s - loss: 9.1937e-04 - val_loss: 9.2492e-04\n",
      "Epoch 14/50\n",
      " - 11s - loss: 9.1283e-04 - val_loss: 0.0012\n",
      "Epoch 15/50\n",
      " - 12s - loss: 9.0595e-04 - val_loss: 0.0011\n",
      "Epoch 16/50\n",
      " - 12s - loss: 9.1018e-04 - val_loss: 9.7588e-04\n",
      "Epoch 17/50\n",
      " - 12s - loss: 9.1013e-04 - val_loss: 0.0012\n",
      "Epoch 18/50\n",
      " - 12s - loss: 9.1637e-04 - val_loss: 0.0010\n",
      "Epoch 19/50\n",
      " - 12s - loss: 9.1847e-04 - val_loss: 8.5629e-04\n",
      "Epoch 20/50\n",
      " - 13s - loss: 9.1228e-04 - val_loss: 0.0011\n",
      "Epoch 21/50\n",
      " - 10s - loss: 9.0983e-04 - val_loss: 0.0011\n",
      "Epoch 22/50\n",
      " - 10s - loss: 9.1797e-04 - val_loss: 9.8599e-04\n",
      "Epoch 23/50\n",
      " - 14s - loss: 9.1586e-04 - val_loss: 0.0011\n",
      "Epoch 24/50\n",
      " - 11s - loss: 9.3111e-04 - val_loss: 0.0011\n",
      "Epoch 25/50\n",
      " - 12s - loss: 9.1025e-04 - val_loss: 0.0010\n",
      "Epoch 26/50\n",
      " - 11s - loss: 9.0787e-04 - val_loss: 0.0011\n",
      "Epoch 27/50\n",
      " - 12s - loss: 9.1125e-04 - val_loss: 9.7716e-04\n",
      "Epoch 28/50\n",
      " - 11s - loss: 9.0669e-04 - val_loss: 0.0011\n",
      "Epoch 29/50\n",
      " - 11s - loss: 9.2113e-04 - val_loss: 0.0011\n",
      "Epoch 30/50\n",
      " - 11s - loss: 9.1471e-04 - val_loss: 0.0011\n",
      "Epoch 31/50\n",
      " - 11s - loss: 9.1137e-04 - val_loss: 8.8733e-04\n",
      "Epoch 32/50\n",
      " - 11s - loss: 9.0579e-04 - val_loss: 0.0011\n",
      "Epoch 33/50\n",
      " - 11s - loss: 9.2705e-04 - val_loss: 0.0011\n",
      "Epoch 34/50\n",
      " - 12s - loss: 9.1631e-04 - val_loss: 9.8727e-04\n",
      "Epoch 35/50\n",
      " - 12s - loss: 9.2389e-04 - val_loss: 0.0010\n",
      "Epoch 36/50\n",
      " - 13s - loss: 9.2771e-04 - val_loss: 9.7567e-04\n",
      "Epoch 37/50\n",
      " - 12s - loss: 9.1743e-04 - val_loss: 0.0012\n",
      "Epoch 38/50\n",
      " - 11s - loss: 9.2906e-04 - val_loss: 0.0010\n",
      "Epoch 39/50\n",
      " - 11s - loss: 9.1227e-04 - val_loss: 0.0012\n",
      "Epoch 40/50\n",
      " - 12s - loss: 9.2701e-04 - val_loss: 9.6460e-04\n",
      "Epoch 41/50\n",
      " - 12s - loss: 9.1367e-04 - val_loss: 0.0011\n",
      "Epoch 42/50\n"
     ]
    }
   ],
   "source": [
    "model = Sequential()\n",
    "model.add(LSTM(5, input_shape=(train_X.shape[1], train_X.shape[2])))\n",
    "model.add(Dropout(0.2))\n",
    "#    model.add(LSTM(70))\n",
    "#    model.add(Dropout(0.3))\n",
    "model.add(Dense(1))\n",
    "model.compile(loss='mean_squared_error', optimizer='adam')\n",
    "\n",
    "\n",
    "\n",
    "# fit network\n",
    "history = model.fit(train_X, train_y, epochs=50, batch_size=64, validation_data=(test_X, test_y), verbose=2, shuffle=False)\n",
    "\n",
    "# summarize history for loss\n",
    "plt.plot(history.history['loss'])\n",
    "plt.plot(history.history['val_loss'])\n",
    "plt.title('model loss')\n",
    "plt.ylabel('loss')\n",
    "plt.xlabel('epoch')\n",
    "plt.legend(['train', 'test'], loc='upper right')\n",
    "plt.show()"
   ]
  },
  {
   "cell_type": "code",
   "execution_count": null,
   "metadata": {},
   "outputs": [],
   "source": [
    "yhat = model.predict(test_X)\n"
   ]
  },
  {
   "cell_type": "code",
   "execution_count": null,
   "metadata": {},
   "outputs": [],
   "source": [
    "test_X.shape"
   ]
  },
  {
   "cell_type": "code",
   "execution_count": null,
   "metadata": {},
   "outputs": [],
   "source": [
    "test_X = test_X.reshape((test_X.shape[0], 1))\n",
    "test_X"
   ]
  },
  {
   "cell_type": "code",
   "execution_count": null,
   "metadata": {},
   "outputs": [],
   "source": [
    "test_X[:, -6:]"
   ]
  },
  {
   "cell_type": "code",
   "execution_count": null,
   "metadata": {},
   "outputs": [],
   "source": [
    "test_y"
   ]
  },
  {
   "cell_type": "code",
   "execution_count": null,
   "metadata": {},
   "outputs": [],
   "source": [
    "yhat"
   ]
  },
  {
   "cell_type": "code",
   "execution_count": null,
   "metadata": {},
   "outputs": [],
   "source": [
    "temp=np.concatenate((yhat, test_X[:, -6:]), axis=1)\n",
    "temp"
   ]
  },
  {
   "cell_type": "code",
   "execution_count": null,
   "metadata": {},
   "outputs": [],
   "source": [
    "temp=np.concatenate((yhat, test_X), axis=1)\n",
    "temp"
   ]
  },
  {
   "cell_type": "code",
   "execution_count": null,
   "metadata": {},
   "outputs": [],
   "source": [
    "temp1=scaler.inverse_transform(temp)\n",
    "temp1"
   ]
  },
  {
   "cell_type": "code",
   "execution_count": null,
   "metadata": {},
   "outputs": [],
   "source": [
    "test_X = test_X.reshape((test_X.shape[0], 7))\n",
    "# invert scaling for forecast\n",
    "inv_yhat = np.concatenate((yhat, test_X[:, -6:]), axis=1)\n",
    "inv_yhat = scaler.inverse_transform(inv_yhat)\n",
    "inv_yhat = inv_yhat[:,0]\n",
    "# invert scaling for actual\n",
    "test_y = test_y.reshape((len(test_y), 1))\n",
    "inv_y = np.concatenate((test_y, test_X[:, -6:]), axis=1)\n",
    "inv_y = scaler.inverse_transform(inv_y)\n",
    "inv_y = inv_y[:,0]\n",
    "# calculate RMSE\n",
    "rmse = np.sqrt(mean_squared_error(inv_y, inv_yhat))\n",
    "print('Test RMSE: %.3f' % rmse)"
   ]
  },
  {
   "cell_type": "code",
   "execution_count": null,
   "metadata": {},
   "outputs": [],
   "source": [
    "test_X = test_X.reshape((test_X.shape[0], 1))\n",
    "# invert scaling for forecast\n",
    "inv_yhat = np.concatenate((yhat, test_X), axis=1)\n",
    "inv_yhat = scaler.inverse_transform(inv_yhat)\n",
    "inv_yhat = inv_yhat[:,0]\n",
    "# invert scaling for actual\n",
    "test_y = test_y.reshape((len(test_y), 1))\n",
    "inv_y = np.concatenate((test_y, test_X), axis=1)\n",
    "inv_y = scaler.inverse_transform(inv_y)\n",
    "inv_y = inv_y[:,0]\n",
    "# calculate RMSE\n",
    "rmse = np.sqrt(mean_squared_error(inv_y, inv_yhat))\n",
    "print('Test RMSE: %.3f' % rmse)"
   ]
  },
  {
   "cell_type": "code",
   "execution_count": null,
   "metadata": {},
   "outputs": [],
   "source": [
    "len(inv_yhat)"
   ]
  },
  {
   "cell_type": "code",
   "execution_count": null,
   "metadata": {},
   "outputs": [],
   "source": [
    "len(inv_y)"
   ]
  },
  {
   "cell_type": "code",
   "execution_count": null,
   "metadata": {},
   "outputs": [],
   "source": [
    "aa=[x for x in range(1000)]\n",
    "plt.figure(figsize=(20, 8))\n",
    "plt.plot(aa, inv_y[:1000], marker='.', label=\"actual\")\n",
    "plt.plot(aa, inv_yhat[:1000], 'r', label=\"prediction\")\n",
    "plt.ylabel('Delhi Consumption', size=15)\n",
    "plt.xlabel('Time step', size=15)\n",
    "plt.legend(fontsize=15)\n",
    "plt.show()"
   ]
  },
  {
   "cell_type": "code",
   "execution_count": null,
   "metadata": {},
   "outputs": [],
   "source": [
    "for x in range(1000):\n",
    "    print(inv_y[x],inv_yhat[x])"
   ]
  },
  {
   "cell_type": "code",
   "execution_count": null,
   "metadata": {},
   "outputs": [],
   "source": [
    "aa=[x for x in range(1000)]\n",
    "plt.figure(figsize=(20, 8))\n",
    "plt.plot(aa, inv_y[1000:2000], marker='.', label=\"actual\")\n",
    "plt.plot(aa, inv_yhat[1000:2000], 'r', label=\"prediction\")\n",
    "plt.ylabel('Delhi Consumption', size=15)\n",
    "plt.xlabel('Time step', size=15)\n",
    "plt.legend(fontsize=15)\n",
    "plt.show()"
   ]
  },
  {
   "cell_type": "code",
   "execution_count": null,
   "metadata": {},
   "outputs": [],
   "source": [
    "aa=[x for x in range(1000)]\n",
    "plt.figure(figsize=(20, 8))\n",
    "plt.plot(aa, inv_y[2000:3000], marker='.', label=\"actual\")\n",
    "plt.plot(aa, inv_yhat[2000:3000], 'r', label=\"prediction\")\n",
    "plt.ylabel('Delhi Consumption', size=15)\n",
    "plt.xlabel('Time step', size=15)\n",
    "plt.legend(fontsize=15)\n",
    "plt.show()"
   ]
  },
  {
   "cell_type": "code",
   "execution_count": null,
   "metadata": {},
   "outputs": [],
   "source": [
    "aa=[x for x in range(1000)]\n",
    "plt.figure(figsize=(20, 8))\n",
    "plt.plot(aa, inv_y[3000:4000], marker='.', label=\"actual\")\n",
    "plt.plot(aa, inv_yhat[3000:4000], 'r', label=\"prediction\")\n",
    "plt.ylabel('Delhi Consumption', size=15)\n",
    "plt.xlabel('Time step', size=15)\n",
    "plt.legend(fontsize=15)\n",
    "plt.show()"
   ]
  },
  {
   "cell_type": "code",
   "execution_count": null,
   "metadata": {},
   "outputs": [],
   "source": [
    "aa=[x for x in range(1000)]\n",
    "plt.figure(figsize=(20, 8))\n",
    "plt.plot(aa, inv_y[4000:5000], marker='.', label=\"actual\")\n",
    "plt.plot(aa, inv_yhat[4000:5000], 'r', label=\"prediction\")\n",
    "plt.ylabel('Delhi Consumption', size=15)\n",
    "plt.xlabel('Time step', size=15)\n",
    "plt.legend(fontsize=15)\n",
    "plt.show()"
   ]
  },
  {
   "cell_type": "code",
   "execution_count": null,
   "metadata": {},
   "outputs": [],
   "source": [
    "aa=[x for x in range(1000)]\n",
    "plt.figure(figsize=(20, 8))\n",
    "plt.plot(aa, inv_y[5000:6000], marker='.', label=\"actual\")\n",
    "plt.plot(aa, inv_yhat[5000:6000], 'r', label=\"prediction\")\n",
    "plt.ylabel('Delhi Consumption', size=15)\n",
    "plt.xlabel('Time step', size=15)\n",
    "plt.legend(fontsize=15)\n",
    "plt.show()"
   ]
  },
  {
   "cell_type": "code",
   "execution_count": null,
   "metadata": {},
   "outputs": [],
   "source": [
    "aa=[x for x in range(1000)]\n",
    "plt.figure(figsize=(20, 8))\n",
    "plt.plot(aa, inv_y[6000:7000], marker='.', label=\"actual\")\n",
    "plt.plot(aa, inv_yhat[6000:7000], 'r', label=\"prediction\")\n",
    "plt.ylabel('Delhi Consumption', size=15)\n",
    "plt.xlabel('Time step', size=15)\n",
    "plt.legend(fontsize=15)\n",
    "plt.show()"
   ]
  },
  {
   "cell_type": "code",
   "execution_count": null,
   "metadata": {},
   "outputs": [],
   "source": [
    "aa=[x for x in range(994)]\n",
    "plt.figure(figsize=(20, 8))\n",
    "plt.plot(aa, inv_y[7000:7994], marker='.', label=\"actual\")\n",
    "plt.plot(aa, inv_yhat[7000:7994], 'r', label=\"prediction\")\n",
    "plt.ylabel('Delhi Consumption', size=15)\n",
    "plt.xlabel('Time step', size=15)\n",
    "plt.legend(fontsize=15)\n",
    "plt.show()"
   ]
  }
 ],
 "metadata": {
  "kernelspec": {
   "display_name": "Python 3",
   "language": "python",
   "name": "python3"
  },
  "language_info": {
   "codemirror_mode": {
    "name": "ipython",
    "version": 3
   },
   "file_extension": ".py",
   "mimetype": "text/x-python",
   "name": "python",
   "nbconvert_exporter": "python",
   "pygments_lexer": "ipython3",
   "version": "3.7.9"
  }
 },
 "nbformat": 4,
 "nbformat_minor": 4
}
